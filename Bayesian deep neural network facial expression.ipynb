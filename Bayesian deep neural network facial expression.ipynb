{
  "nbformat": 4,
  "nbformat_minor": 0,
  "metadata": {
    "colab": {
      "name": "Copy of Bayesian deep neural network facial expression.ipynb",
      "provenance": [],
      "collapsed_sections": []
    },
    "kernelspec": {
      "name": "python3",
      "display_name": "Python 3"
    },
    "language_info": {
      "name": "python"
    }
  },
  "cells": [
    {
      "cell_type": "markdown",
      "source": [
        "### **(a) Bayesian Neural Network with limited features (4) and emotions (3):**\n"
      ],
      "metadata": {
        "id": "6tDnOpUKcX_N"
      }
    },
    {
      "cell_type": "code",
      "source": [
        "# !pip3 install torch==1.2.0+cu92 torchvision==0.4.0+cu92 -f https://download.pytorch.org/whl/torch_stable.html"
      ],
      "metadata": {
        "colab": {
          "base_uri": "https://localhost:8080/"
        },
        "id": "y8xMegWp_QMj",
        "outputId": "f6900e7d-256d-49a3-9092-cedce9557955"
      },
      "execution_count": null,
      "outputs": [
        {
          "output_type": "stream",
          "name": "stdout",
          "text": [
            "Looking in links: https://download.pytorch.org/whl/torch_stable.html\n",
            "Requirement already satisfied: torch==1.2.0+cu92 in /usr/local/lib/python3.7/dist-packages (1.2.0+cu92)\n",
            "Requirement already satisfied: torchvision==0.4.0+cu92 in /usr/local/lib/python3.7/dist-packages (0.4.0+cu92)\n",
            "Requirement already satisfied: numpy in /usr/local/lib/python3.7/dist-packages (from torch==1.2.0+cu92) (1.19.5)\n",
            "Requirement already satisfied: six in /usr/local/lib/python3.7/dist-packages (from torchvision==0.4.0+cu92) (1.15.0)\n",
            "Requirement already satisfied: pillow>=4.1.1 in /usr/local/lib/python3.7/dist-packages (from torchvision==0.4.0+cu92) (7.1.2)\n"
          ]
        }
      ]
    },
    {
      "cell_type": "code",
      "source": [
        "!pip3 install torchbnn"
      ],
      "metadata": {
        "colab": {
          "base_uri": "https://localhost:8080/"
        },
        "id": "ePNCiSndAwLd",
        "outputId": "678b0393-6d6b-4a63-9507-5c38c901260f"
      },
      "execution_count": null,
      "outputs": [
        {
          "output_type": "stream",
          "name": "stdout",
          "text": [
            "Collecting torchbnn\n",
            "  Downloading torchbnn-1.2-py3-none-any.whl (12 kB)\n",
            "Installing collected packages: torchbnn\n",
            "Successfully installed torchbnn-1.2\n"
          ]
        }
      ]
    },
    {
      "cell_type": "code",
      "source": [
        "import pandas as pd\n",
        "import numpy as np\n",
        "import glob\n",
        "import seaborn as sns\n",
        "import matplotlib.pyplot as plt\n",
        "#%matplotlib.pylab as plt\n",
        "from sklearn.linear_model import LinearRegression\n",
        "import nltk\n",
        "import os\n",
        "import nltk.corpus\n",
        "import datetime \n",
        "import scipy.stats as sp\n",
        "import tensorflow as tf\n",
        "from sklearn import datasets\n",
        "import torch\n",
        "import torch.nn as nn\n",
        "import torchbnn as bnn\n",
        "import torch.optim as optim\n",
        "import matplotlib.pyplot as plt"
      ],
      "metadata": {
        "id": "O-0nzNZq_BFi"
      },
      "execution_count": null,
      "outputs": []
    },
    {
      "cell_type": "code",
      "source": [
        "# dataset = datasets.load_iris()\n",
        "# dataset"
      ],
      "metadata": {
        "id": "XcPjglay_wq1"
      },
      "execution_count": null,
      "outputs": []
    },
    {
      "cell_type": "code",
      "source": [
        "from google.colab import drive\n",
        "drive.mount(\"/content/drive/\")"
      ],
      "metadata": {
        "colab": {
          "base_uri": "https://localhost:8080/"
        },
        "id": "JlVzgn2cj9gW",
        "outputId": "e9570527-2795-4ed1-d59f-501eb6aed29e"
      },
      "execution_count": null,
      "outputs": [
        {
          "output_type": "stream",
          "name": "stdout",
          "text": [
            "Mounted at /content/drive/\n"
          ]
        }
      ]
    },
    {
      "cell_type": "code",
      "source": [
        "data = pd.read_csv('/content/drive/MyDrive/Research/Bayesian deep neural network/imotion_feature_sorted.csv')"
      ],
      "metadata": {
        "id": "d277bxXekAx-"
      },
      "execution_count": null,
      "outputs": []
    },
    {
      "cell_type": "code",
      "source": [
        "data.dropna()"
      ],
      "metadata": {
        "id": "M_H7vN17OlOh",
        "colab": {
          "base_uri": "https://localhost:8080/",
          "height": 423
        },
        "outputId": "0ab47439-f5e3-4a4e-cd86-277b12c93806"
      },
      "execution_count": null,
      "outputs": [
        {
          "output_type": "execute_result",
          "data": {
            "text/html": [
              "<div>\n",
              "<style scoped>\n",
              "    .dataframe tbody tr th:only-of-type {\n",
              "        vertical-align: middle;\n",
              "    }\n",
              "\n",
              "    .dataframe tbody tr th {\n",
              "        vertical-align: top;\n",
              "    }\n",
              "\n",
              "    .dataframe thead th {\n",
              "        text-align: right;\n",
              "    }\n",
              "</style>\n",
              "<table border=\"1\" class=\"dataframe\">\n",
              "  <thead>\n",
              "    <tr style=\"text-align: right;\">\n",
              "      <th></th>\n",
              "      <th>SourceStimuliName</th>\n",
              "      <th>SourceStimuliNameArray</th>\n",
              "      <th>Brow Furrow</th>\n",
              "      <th>Cheek Raise</th>\n",
              "      <th>Inner Brow Raise</th>\n",
              "      <th>Lip Suck</th>\n",
              "      <th>Pitch</th>\n",
              "    </tr>\n",
              "  </thead>\n",
              "  <tbody>\n",
              "    <tr>\n",
              "      <th>0</th>\n",
              "      <td>Happy</td>\n",
              "      <td>2</td>\n",
              "      <td>0.751990</td>\n",
              "      <td>9.020000e-06</td>\n",
              "      <td>0.384837</td>\n",
              "      <td>12.007908</td>\n",
              "      <td>-12.256138</td>\n",
              "    </tr>\n",
              "    <tr>\n",
              "      <th>1</th>\n",
              "      <td>Happy</td>\n",
              "      <td>2</td>\n",
              "      <td>0.387637</td>\n",
              "      <td>1.420000e-05</td>\n",
              "      <td>0.435094</td>\n",
              "      <td>7.580544</td>\n",
              "      <td>-13.081846</td>\n",
              "    </tr>\n",
              "    <tr>\n",
              "      <th>2</th>\n",
              "      <td>Happy</td>\n",
              "      <td>2</td>\n",
              "      <td>0.299397</td>\n",
              "      <td>3.570000e-05</td>\n",
              "      <td>0.376767</td>\n",
              "      <td>6.392175</td>\n",
              "      <td>-13.834060</td>\n",
              "    </tr>\n",
              "    <tr>\n",
              "      <th>3</th>\n",
              "      <td>Happy</td>\n",
              "      <td>2</td>\n",
              "      <td>0.307248</td>\n",
              "      <td>5.620000e-05</td>\n",
              "      <td>0.333129</td>\n",
              "      <td>7.258187</td>\n",
              "      <td>-13.380401</td>\n",
              "    </tr>\n",
              "    <tr>\n",
              "      <th>4</th>\n",
              "      <td>Happy</td>\n",
              "      <td>2</td>\n",
              "      <td>0.322942</td>\n",
              "      <td>6.690000e-05</td>\n",
              "      <td>0.356248</td>\n",
              "      <td>8.364370</td>\n",
              "      <td>-12.625573</td>\n",
              "    </tr>\n",
              "    <tr>\n",
              "      <th>...</th>\n",
              "      <td>...</td>\n",
              "      <td>...</td>\n",
              "      <td>...</td>\n",
              "      <td>...</td>\n",
              "      <td>...</td>\n",
              "      <td>...</td>\n",
              "      <td>...</td>\n",
              "    </tr>\n",
              "    <tr>\n",
              "      <th>453</th>\n",
              "      <td>Fearful</td>\n",
              "      <td>1</td>\n",
              "      <td>42.765652</td>\n",
              "      <td>4.000000e-07</td>\n",
              "      <td>1.677433</td>\n",
              "      <td>7.695110</td>\n",
              "      <td>-12.521623</td>\n",
              "    </tr>\n",
              "    <tr>\n",
              "      <th>454</th>\n",
              "      <td>Fearful</td>\n",
              "      <td>1</td>\n",
              "      <td>38.136963</td>\n",
              "      <td>3.120000e-07</td>\n",
              "      <td>2.045548</td>\n",
              "      <td>6.303257</td>\n",
              "      <td>-11.275982</td>\n",
              "    </tr>\n",
              "    <tr>\n",
              "      <th>455</th>\n",
              "      <td>Fearful</td>\n",
              "      <td>1</td>\n",
              "      <td>31.333426</td>\n",
              "      <td>2.670000e-07</td>\n",
              "      <td>2.429621</td>\n",
              "      <td>5.193444</td>\n",
              "      <td>-12.052565</td>\n",
              "    </tr>\n",
              "    <tr>\n",
              "      <th>456</th>\n",
              "      <td>Fearful</td>\n",
              "      <td>1</td>\n",
              "      <td>24.833490</td>\n",
              "      <td>2.450000e-07</td>\n",
              "      <td>2.698661</td>\n",
              "      <td>4.568106</td>\n",
              "      <td>-11.616785</td>\n",
              "    </tr>\n",
              "    <tr>\n",
              "      <th>457</th>\n",
              "      <td>Fearful</td>\n",
              "      <td>1</td>\n",
              "      <td>16.418072</td>\n",
              "      <td>2.190000e-07</td>\n",
              "      <td>2.988903</td>\n",
              "      <td>4.215617</td>\n",
              "      <td>-10.451236</td>\n",
              "    </tr>\n",
              "  </tbody>\n",
              "</table>\n",
              "<p>458 rows × 7 columns</p>\n",
              "</div>"
            ],
            "text/plain": [
              "    SourceStimuliName  SourceStimuliNameArray  ...   Lip Suck      Pitch\n",
              "0               Happy                       2  ...  12.007908 -12.256138\n",
              "1               Happy                       2  ...   7.580544 -13.081846\n",
              "2               Happy                       2  ...   6.392175 -13.834060\n",
              "3               Happy                       2  ...   7.258187 -13.380401\n",
              "4               Happy                       2  ...   8.364370 -12.625573\n",
              "..                ...                     ...  ...        ...        ...\n",
              "453           Fearful                       1  ...   7.695110 -12.521623\n",
              "454           Fearful                       1  ...   6.303257 -11.275982\n",
              "455           Fearful                       1  ...   5.193444 -12.052565\n",
              "456           Fearful                       1  ...   4.568106 -11.616785\n",
              "457           Fearful                       1  ...   4.215617 -10.451236\n",
              "\n",
              "[458 rows x 7 columns]"
            ]
          },
          "metadata": {},
          "execution_count": 7
        }
      ]
    },
    {
      "cell_type": "code",
      "source": [
        "data.head()"
      ],
      "metadata": {
        "id": "NT36dMvTkDIO",
        "colab": {
          "base_uri": "https://localhost:8080/",
          "height": 206
        },
        "outputId": "d6b8db60-0c61-4ccc-ae99-e5d320f76bea"
      },
      "execution_count": null,
      "outputs": [
        {
          "output_type": "execute_result",
          "data": {
            "text/html": [
              "<div>\n",
              "<style scoped>\n",
              "    .dataframe tbody tr th:only-of-type {\n",
              "        vertical-align: middle;\n",
              "    }\n",
              "\n",
              "    .dataframe tbody tr th {\n",
              "        vertical-align: top;\n",
              "    }\n",
              "\n",
              "    .dataframe thead th {\n",
              "        text-align: right;\n",
              "    }\n",
              "</style>\n",
              "<table border=\"1\" class=\"dataframe\">\n",
              "  <thead>\n",
              "    <tr style=\"text-align: right;\">\n",
              "      <th></th>\n",
              "      <th>SourceStimuliName</th>\n",
              "      <th>SourceStimuliNameArray</th>\n",
              "      <th>Brow Furrow</th>\n",
              "      <th>Cheek Raise</th>\n",
              "      <th>Inner Brow Raise</th>\n",
              "      <th>Lip Suck</th>\n",
              "      <th>Pitch</th>\n",
              "    </tr>\n",
              "  </thead>\n",
              "  <tbody>\n",
              "    <tr>\n",
              "      <th>0</th>\n",
              "      <td>Happy</td>\n",
              "      <td>2</td>\n",
              "      <td>0.751990</td>\n",
              "      <td>0.000009</td>\n",
              "      <td>0.384837</td>\n",
              "      <td>12.007908</td>\n",
              "      <td>-12.256138</td>\n",
              "    </tr>\n",
              "    <tr>\n",
              "      <th>1</th>\n",
              "      <td>Happy</td>\n",
              "      <td>2</td>\n",
              "      <td>0.387637</td>\n",
              "      <td>0.000014</td>\n",
              "      <td>0.435094</td>\n",
              "      <td>7.580544</td>\n",
              "      <td>-13.081846</td>\n",
              "    </tr>\n",
              "    <tr>\n",
              "      <th>2</th>\n",
              "      <td>Happy</td>\n",
              "      <td>2</td>\n",
              "      <td>0.299397</td>\n",
              "      <td>0.000036</td>\n",
              "      <td>0.376767</td>\n",
              "      <td>6.392175</td>\n",
              "      <td>-13.834060</td>\n",
              "    </tr>\n",
              "    <tr>\n",
              "      <th>3</th>\n",
              "      <td>Happy</td>\n",
              "      <td>2</td>\n",
              "      <td>0.307248</td>\n",
              "      <td>0.000056</td>\n",
              "      <td>0.333129</td>\n",
              "      <td>7.258187</td>\n",
              "      <td>-13.380401</td>\n",
              "    </tr>\n",
              "    <tr>\n",
              "      <th>4</th>\n",
              "      <td>Happy</td>\n",
              "      <td>2</td>\n",
              "      <td>0.322942</td>\n",
              "      <td>0.000067</td>\n",
              "      <td>0.356248</td>\n",
              "      <td>8.364370</td>\n",
              "      <td>-12.625573</td>\n",
              "    </tr>\n",
              "  </tbody>\n",
              "</table>\n",
              "</div>"
            ],
            "text/plain": [
              "  SourceStimuliName  SourceStimuliNameArray  ...   Lip Suck      Pitch\n",
              "0             Happy                       2  ...  12.007908 -12.256138\n",
              "1             Happy                       2  ...   7.580544 -13.081846\n",
              "2             Happy                       2  ...   6.392175 -13.834060\n",
              "3             Happy                       2  ...   7.258187 -13.380401\n",
              "4             Happy                       2  ...   8.364370 -12.625573\n",
              "\n",
              "[5 rows x 7 columns]"
            ]
          },
          "metadata": {},
          "execution_count": 8
        }
      ]
    },
    {
      "cell_type": "code",
      "source": [
        "np_array = data.to_numpy()\n",
        "\n",
        "display(np_array)"
      ],
      "metadata": {
        "id": "RTuJ5f_Bk9vz",
        "colab": {
          "base_uri": "https://localhost:8080/",
          "height": 242
        },
        "outputId": "808d43c7-182d-4de6-e9d7-99cafb77b2a5"
      },
      "execution_count": null,
      "outputs": [
        {
          "output_type": "display_data",
          "data": {
            "text/plain": [
              "array([['Happy', 2, 0.7519899609999999, ..., 0.38483691200000003,\n",
              "        12.00790787, -12.25613785],\n",
              "       ['Happy', 2, 0.38763651299999996, ..., 0.435094208, 7.580543518,\n",
              "        -13.08184624],\n",
              "       ['Happy', 2, 0.299396873, ..., 0.376766503, 6.3921751979999994,\n",
              "        -13.83405972],\n",
              "       ...,\n",
              "       ['Fearful', 1, 31.33342552, ..., 2.429620504, 5.193443775,\n",
              "        -12.05256462],\n",
              "       ['Fearful', 1, 24.83349037, ..., 2.698661089, 4.568105698,\n",
              "        -11.61678505],\n",
              "       ['Fearful', 1, 16.41807175, ..., 2.9889028069999997, 4.21561718,\n",
              "        -10.45123577]], dtype=object)"
            ]
          },
          "metadata": {}
        }
      ]
    },
    {
      "cell_type": "code",
      "source": [
        "x = data[['Brow Furrow','Cheek Raise','Inner Brow Raise','Lip Suck']].to_numpy()\n",
        "x"
      ],
      "metadata": {
        "id": "oQwvoON7xOVX",
        "colab": {
          "base_uri": "https://localhost:8080/"
        },
        "outputId": "dd0d0e42-6952-449a-fa26-5b98732c9bc7"
      },
      "execution_count": null,
      "outputs": [
        {
          "output_type": "execute_result",
          "data": {
            "text/plain": [
              "array([[7.51989961e-01, 9.02000000e-06, 3.84836912e-01, 1.20079079e+01],\n",
              "       [3.87636513e-01, 1.42000000e-05, 4.35094208e-01, 7.58054352e+00],\n",
              "       [2.99396873e-01, 3.57000000e-05, 3.76766503e-01, 6.39217520e+00],\n",
              "       ...,\n",
              "       [3.13334255e+01, 2.67000000e-07, 2.42962050e+00, 5.19344378e+00],\n",
              "       [2.48334904e+01, 2.45000000e-07, 2.69866109e+00, 4.56810570e+00],\n",
              "       [1.64180717e+01, 2.19000000e-07, 2.98890281e+00, 4.21561718e+00]])"
            ]
          },
          "metadata": {},
          "execution_count": 10
        }
      ]
    },
    {
      "cell_type": "code",
      "source": [
        "y = data[['SourceStimuliNameArray']].to_numpy()\n",
        "y = y.ravel()\n",
        "y"
      ],
      "metadata": {
        "id": "G2-aeOuXelyi",
        "colab": {
          "base_uri": "https://localhost:8080/"
        },
        "outputId": "020e81f8-f432-4235-bd09-287676478b1e"
      },
      "execution_count": null,
      "outputs": [
        {
          "output_type": "execute_result",
          "data": {
            "text/plain": [
              "array([2, 2, 2, 2, 2, 2, 2, 2, 2, 2, 2, 2, 2, 2, 2, 2, 2, 2, 2, 2, 2, 2,\n",
              "       2, 2, 2, 2, 2, 2, 2, 2, 2, 2, 2, 2, 2, 2, 2, 2, 2, 2, 2, 2, 2, 2,\n",
              "       2, 2, 2, 2, 2, 2, 2, 2, 2, 2, 2, 2, 2, 2, 2, 2, 2, 2, 2, 2, 2, 2,\n",
              "       2, 2, 2, 2, 2, 2, 2, 2, 2, 2, 2, 2, 2, 2, 2, 2, 2, 2, 2, 2, 2, 2,\n",
              "       2, 2, 2, 2, 2, 2, 2, 2, 2, 2, 2, 2, 2, 2, 2, 2, 2, 2, 2, 2, 2, 2,\n",
              "       2, 2, 2, 2, 2, 2, 2, 2, 2, 2, 2, 2, 2, 2, 2, 2, 2, 2, 2, 2, 2, 2,\n",
              "       2, 2, 2, 0, 0, 0, 0, 0, 0, 0, 0, 0, 0, 0, 0, 0, 0, 0, 0, 0, 0, 0,\n",
              "       0, 0, 0, 0, 0, 0, 0, 0, 0, 0, 0, 0, 0, 0, 0, 0, 0, 0, 0, 0, 0, 0,\n",
              "       0, 0, 0, 0, 0, 0, 0, 0, 0, 0, 0, 0, 0, 0, 0, 0, 0, 0, 0, 0, 0, 0,\n",
              "       0, 0, 0, 0, 0, 0, 0, 0, 0, 0, 0, 0, 0, 0, 0, 0, 0, 0, 0, 0, 0, 0,\n",
              "       0, 0, 0, 0, 0, 0, 0, 0, 1, 1, 1, 1, 1, 1, 1, 1, 1, 1, 1, 1, 1, 1,\n",
              "       1, 1, 1, 1, 1, 1, 1, 1, 1, 1, 1, 1, 1, 1, 1, 1, 1, 1, 1, 1, 1, 1,\n",
              "       1, 1, 1, 1, 1, 1, 1, 1, 1, 1, 1, 1, 1, 1, 1, 1, 1, 1, 1, 1, 1, 1,\n",
              "       1, 1, 1, 1, 1, 1, 1, 1, 1, 1, 1, 1, 1, 1, 1, 1, 1, 1, 1, 1, 1, 1,\n",
              "       1, 1, 1, 1, 1, 1, 1, 1, 1, 1, 1, 1, 1, 1, 1, 1, 1, 1, 1, 1, 1, 1,\n",
              "       1, 1, 1, 1, 1, 1, 1, 1, 1, 1, 1, 1, 1, 1, 1, 1, 1, 1, 1, 1, 1, 1,\n",
              "       1, 1, 1, 1, 1, 1, 1, 1, 1, 1, 1, 1, 1, 1, 1, 1, 1, 1, 1, 1, 1, 1,\n",
              "       1, 1, 1, 1, 1, 1, 1, 1, 1, 1, 1, 1, 1, 1, 1, 1, 1, 1, 1, 1, 1, 1,\n",
              "       1, 1, 1, 1, 1, 1, 1, 1, 1, 1, 1, 1, 1, 1, 1, 1, 1, 1, 1, 1, 1, 1,\n",
              "       1, 1, 1, 1, 1, 1, 1, 1, 1, 1, 1, 1, 1, 1, 1, 1, 1, 1, 1, 1, 1, 1,\n",
              "       1, 1, 1, 1, 1, 1, 1, 1, 1, 1, 1, 1, 1, 1, 1, 1, 1, 1])"
            ]
          },
          "metadata": {},
          "execution_count": 11
        }
      ]
    },
    {
      "cell_type": "code",
      "source": [
        "data = x\n",
        "target = y\n",
        "data_tensor=torch.from_numpy(data).float()\n",
        "target_tensor=torch.from_numpy(target).long()"
      ],
      "metadata": {
        "id": "kvqDQW5q7_m0"
      },
      "execution_count": null,
      "outputs": []
    },
    {
      "cell_type": "code",
      "source": [
        "x, y = torch.from_numpy(x).float(), torch.from_numpy(y).long()\n",
        "x.shape, y.shape"
      ],
      "metadata": {
        "colab": {
          "base_uri": "https://localhost:8080/"
        },
        "id": "uELAmJEVJtUs",
        "outputId": "36ee396e-af33-492a-d531-abc9600f36ad"
      },
      "execution_count": null,
      "outputs": [
        {
          "output_type": "execute_result",
          "data": {
            "text/plain": [
              "(torch.Size([458, 4]), torch.Size([458]))"
            ]
          },
          "metadata": {},
          "execution_count": 13
        }
      ]
    },
    {
      "cell_type": "markdown",
      "source": [
        "1. Define model"
      ],
      "metadata": {
        "id": "C8XmAhN7TRMP"
      }
    },
    {
      "cell_type": "code",
      "source": [
        "model = nn.Sequential(\n",
        "    bnn.BayesLinear(prior_mu=0, prior_sigma=0.1, in_features=4, out_features=100),\n",
        "    nn.ReLU(),\n",
        "    bnn.BayesLinear(prior_mu=0, prior_sigma=0.1, in_features=100, out_features=3),\n",
        ")"
      ],
      "metadata": {
        "id": "6lC47NMVKNbJ"
      },
      "execution_count": null,
      "outputs": []
    },
    {
      "cell_type": "code",
      "source": [
        "ce_loss = nn.CrossEntropyLoss()\n",
        "kl_loss = bnn.BKLLoss(reduction='mean', last_layer_only=False)\n",
        "kl_weight = 0.01\n",
        "\n",
        "optimizer = optim.Adam(model.parameters(), lr=0.01)"
      ],
      "metadata": {
        "id": "w7jpvMABKRWI"
      },
      "execution_count": null,
      "outputs": []
    },
    {
      "cell_type": "markdown",
      "source": [
        "###2. Train Model"
      ],
      "metadata": {
        "id": "FmqJYdKDTYsf"
      }
    },
    {
      "cell_type": "code",
      "source": [
        "kl_weight = 0.1"
      ],
      "metadata": {
        "id": "EdnJtRpRKTxY"
      },
      "execution_count": null,
      "outputs": []
    },
    {
      "cell_type": "code",
      "source": [
        "for step in range(5000):\n",
        "    pre = model(x)\n",
        "    ce = ce_loss(pre, y)\n",
        "    kl = kl_loss(model)\n",
        "    cost = ce + kl_weight*kl\n",
        "    \n",
        "    optimizer.zero_grad()\n",
        "    cost.backward()\n",
        "    optimizer.step()\n",
        "    \n",
        "_, predicted = torch.max(pre.data, 1)\n",
        "total = y.size(0)\n",
        "correct = (predicted == y).sum()\n",
        "print('- Accuracy: %f %%' % (100 * float(correct) / total))\n",
        "print('- CE : %2.2f, KL : %2.2f' % (ce.item(), kl.item()))"
      ],
      "metadata": {
        "colab": {
          "base_uri": "https://localhost:8080/"
        },
        "id": "9tfCmXxMKVyY",
        "outputId": "74f11fa3-8e5a-448c-8616-2a043cf62c48"
      },
      "execution_count": null,
      "outputs": [
        {
          "output_type": "stream",
          "name": "stdout",
          "text": [
            "- Accuracy: 94.104803 %\n",
            "- CE : 0.20, KL : 1.55\n"
          ]
        }
      ]
    },
    {
      "cell_type": "markdown",
      "source": [
        "### 3. Test Model"
      ],
      "metadata": {
        "id": "8Mrr2s_JThNX"
      }
    },
    {
      "cell_type": "code",
      "source": [
        "def draw_plot(predicted) :\n",
        "    fig = plt.figure(figsize = (16, 5))\n",
        "\n",
        "    ax1 = fig.add_subplot(1, 2, 1)\n",
        "    ax2 = fig.add_subplot(1, 2, 2)\n",
        "\n",
        "    z1_plot = ax1.scatter(x[:, 0], x[:, 1], c = y)\n",
        "    z2_plot = ax2.scatter(x[:, 0], x[:, 1], c = predicted)\n",
        "\n",
        "    plt.colorbar(z1_plot,ax=ax1)\n",
        "    plt.colorbar(z2_plot,ax=ax2)\n",
        "\n",
        "    ax1.set_title(\"REAL\")\n",
        "    ax2.set_title(\"PREDICT\")\n",
        "\n",
        "    plt.show()"
      ],
      "metadata": {
        "id": "6lR4H2GePyCa"
      },
      "execution_count": null,
      "outputs": []
    },
    {
      "cell_type": "code",
      "source": [
        "# Bayesian Neural Network will return different outputs even if inputs are same.\n",
        "# In other words, different plots will be shown every time forward method is called.\n",
        "pre = model(x)\n",
        "_, predicted = torch.max(pre.data, 1)\n",
        "draw_plot(predicted)"
      ],
      "metadata": {
        "colab": {
          "base_uri": "https://localhost:8080/",
          "height": 336
        },
        "id": "g3BJshbEQP6R",
        "outputId": "38ae06ea-0e2b-4a63-ad5f-e142ea7ad980"
      },
      "execution_count": null,
      "outputs": [
        {
          "output_type": "display_data",
          "data": {
            "image/png": "[encoded data removed]",
            "text/plain": [
              "<Figure size 1152x360 with 4 Axes>"
            ]
          },
          "metadata": {
            "needs_background": "light"
          }
        }
      ]
    },
    {
      "cell_type": "markdown",
      "source": [
        "### **(b) Different approach: Bayesian Neural Network with all the features (21) and emotions (6):**"
      ],
      "metadata": {
        "id": "GXuFxxHrTEAL"
      }
    },
    {
      "cell_type": "code",
      "source": [
        "pip install tensorflow-probability"
      ],
      "metadata": {
        "colab": {
          "base_uri": "https://localhost:8080/"
        },
        "id": "lhkX9JZ1TDUr",
        "outputId": "358ddaa0-bc8c-45a0-8922-873d04432b96"
      },
      "execution_count": null,
      "outputs": [
        {
          "output_type": "stream",
          "name": "stdout",
          "text": [
            "Requirement already satisfied: tensorflow-probability in /usr/local/lib/python3.7/dist-packages (0.15.0)\n",
            "Requirement already satisfied: six>=1.10.0 in /usr/local/lib/python3.7/dist-packages (from tensorflow-probability) (1.15.0)\n",
            "Requirement already satisfied: decorator in /usr/local/lib/python3.7/dist-packages (from tensorflow-probability) (4.4.2)\n",
            "Requirement already satisfied: absl-py in /usr/local/lib/python3.7/dist-packages (from tensorflow-probability) (0.12.0)\n",
            "Requirement already satisfied: dm-tree in /usr/local/lib/python3.7/dist-packages (from tensorflow-probability) (0.1.6)\n",
            "Requirement already satisfied: gast>=0.3.2 in /usr/local/lib/python3.7/dist-packages (from tensorflow-probability) (0.4.0)\n",
            "Requirement already satisfied: numpy>=1.13.3 in /usr/local/lib/python3.7/dist-packages (from tensorflow-probability) (1.19.5)\n",
            "Requirement already satisfied: cloudpickle>=1.3 in /usr/local/lib/python3.7/dist-packages (from tensorflow-probability) (1.3.0)\n"
          ]
        }
      ]
    },
    {
      "cell_type": "code",
      "source": [
        "import numpy as np\n",
        "import tensorflow as tf\n",
        "import matplotlib.pyplot as plt\n",
        "import seaborn as sns\n",
        "import sklearn as skl\n",
        "from tensorflow import keras\n",
        "from tensorflow.keras import layers\n",
        "import tensorflow_datasets as tfds\n",
        "import tensorflow_probability as tfp"
      ],
      "metadata": {
        "id": "9GKXsDTyT9Ww"
      },
      "execution_count": null,
      "outputs": []
    },
    {
      "cell_type": "code",
      "source": [
        "# data = pd.read_csv('/content/drive/MyDrive/Research/Bayesian deep neural network/imotion_feature_sorted.csv')\n",
        "# data1 = pd.read_csv('/content/drive/MyDrive/Research/Bayesian deep neural network/iMotions_sensor_data-sample.csv')\n",
        "data1 = pd.read_csv('/content/drive/MyDrive/Research/Bayesian deep neural network/Copy of iMotions_sensor_data-sample_n.csv')"
      ],
      "metadata": {
        "id": "Ei--GU03UDOu"
      },
      "execution_count": null,
      "outputs": []
    },
    {
      "cell_type": "code",
      "source": [
        "data1 = data1.dropna()\n",
        "data1.head()"
      ],
      "metadata": {
        "colab": {
          "base_uri": "https://localhost:8080/",
          "height": 327
        },
        "id": "1rb9-Ipj-i5E",
        "outputId": "a4d4809d-ecc6-4e62-bafe-d56fe90068d1"
      },
      "execution_count": null,
      "outputs": [
        {
          "output_type": "execute_result",
          "data": {
            "text/html": [
              "<div>\n",
              "<style scoped>\n",
              "    .dataframe tbody tr th:only-of-type {\n",
              "        vertical-align: middle;\n",
              "    }\n",
              "\n",
              "    .dataframe tbody tr th {\n",
              "        vertical-align: top;\n",
              "    }\n",
              "\n",
              "    .dataframe thead th {\n",
              "        text-align: right;\n",
              "    }\n",
              "</style>\n",
              "<table border=\"1\" class=\"dataframe\">\n",
              "  <thead>\n",
              "    <tr style=\"text-align: right;\">\n",
              "      <th></th>\n",
              "      <th>SourceStimuliName</th>\n",
              "      <th>SourceStimuliArray</th>\n",
              "      <th>Brow Furrow</th>\n",
              "      <th>Brow Raise</th>\n",
              "      <th>Cheek Raise</th>\n",
              "      <th>Chin Raise</th>\n",
              "      <th>Dimpler</th>\n",
              "      <th>Eye Closure</th>\n",
              "      <th>Eye Widen</th>\n",
              "      <th>Inner Brow Raise</th>\n",
              "      <th>Jaw Drop</th>\n",
              "      <th>Lip Corner Depressor</th>\n",
              "      <th>Lip Press</th>\n",
              "      <th>Lip Pucker</th>\n",
              "      <th>Lip Stretch</th>\n",
              "      <th>Lip Suck</th>\n",
              "      <th>Lid Tighten</th>\n",
              "      <th>Mouth Open</th>\n",
              "      <th>Nose Wrinkle</th>\n",
              "      <th>Smile</th>\n",
              "      <th>Smirk</th>\n",
              "      <th>Upper Lip Raise</th>\n",
              "    </tr>\n",
              "  </thead>\n",
              "  <tbody>\n",
              "    <tr>\n",
              "      <th>2</th>\n",
              "      <td>Happy</td>\n",
              "      <td>5</td>\n",
              "      <td>0.751990</td>\n",
              "      <td>5.520000e-08</td>\n",
              "      <td>0.000009</td>\n",
              "      <td>0.072248</td>\n",
              "      <td>0.318606</td>\n",
              "      <td>0.000174</td>\n",
              "      <td>4.360000e-06</td>\n",
              "      <td>0.384837</td>\n",
              "      <td>0.090608</td>\n",
              "      <td>0.000525</td>\n",
              "      <td>0.343026</td>\n",
              "      <td>0.014581</td>\n",
              "      <td>0.019550</td>\n",
              "      <td>12.007908</td>\n",
              "      <td>0.954219</td>\n",
              "      <td>0.005125</td>\n",
              "      <td>0.000005</td>\n",
              "      <td>0.002704</td>\n",
              "      <td>2.967763</td>\n",
              "      <td>9.050000e-09</td>\n",
              "    </tr>\n",
              "    <tr>\n",
              "      <th>3</th>\n",
              "      <td>Happy</td>\n",
              "      <td>5</td>\n",
              "      <td>0.387637</td>\n",
              "      <td>1.500000e-07</td>\n",
              "      <td>0.000014</td>\n",
              "      <td>0.058706</td>\n",
              "      <td>0.284007</td>\n",
              "      <td>0.000055</td>\n",
              "      <td>1.280000e-06</td>\n",
              "      <td>0.435094</td>\n",
              "      <td>0.148892</td>\n",
              "      <td>0.000514</td>\n",
              "      <td>0.276015</td>\n",
              "      <td>0.020938</td>\n",
              "      <td>0.018882</td>\n",
              "      <td>7.580544</td>\n",
              "      <td>0.656802</td>\n",
              "      <td>0.004577</td>\n",
              "      <td>0.000004</td>\n",
              "      <td>0.004607</td>\n",
              "      <td>3.029588</td>\n",
              "      <td>7.980000e-09</td>\n",
              "    </tr>\n",
              "    <tr>\n",
              "      <th>4</th>\n",
              "      <td>Happy</td>\n",
              "      <td>5</td>\n",
              "      <td>0.299397</td>\n",
              "      <td>1.730000e-07</td>\n",
              "      <td>0.000036</td>\n",
              "      <td>0.037781</td>\n",
              "      <td>0.226752</td>\n",
              "      <td>0.000037</td>\n",
              "      <td>8.980000e-07</td>\n",
              "      <td>0.376767</td>\n",
              "      <td>0.109311</td>\n",
              "      <td>0.000567</td>\n",
              "      <td>0.209866</td>\n",
              "      <td>0.014651</td>\n",
              "      <td>0.016641</td>\n",
              "      <td>6.392175</td>\n",
              "      <td>0.524524</td>\n",
              "      <td>0.004604</td>\n",
              "      <td>0.000005</td>\n",
              "      <td>0.011593</td>\n",
              "      <td>2.656371</td>\n",
              "      <td>9.860000e-09</td>\n",
              "    </tr>\n",
              "    <tr>\n",
              "      <th>5</th>\n",
              "      <td>Happy</td>\n",
              "      <td>5</td>\n",
              "      <td>0.307248</td>\n",
              "      <td>2.610000e-07</td>\n",
              "      <td>0.000056</td>\n",
              "      <td>0.041915</td>\n",
              "      <td>0.215460</td>\n",
              "      <td>0.000012</td>\n",
              "      <td>8.440000e-07</td>\n",
              "      <td>0.333129</td>\n",
              "      <td>0.132614</td>\n",
              "      <td>0.000682</td>\n",
              "      <td>0.241785</td>\n",
              "      <td>0.013182</td>\n",
              "      <td>0.016230</td>\n",
              "      <td>7.258187</td>\n",
              "      <td>0.528784</td>\n",
              "      <td>0.004736</td>\n",
              "      <td>0.000008</td>\n",
              "      <td>0.015096</td>\n",
              "      <td>2.009076</td>\n",
              "      <td>1.740000e-08</td>\n",
              "    </tr>\n",
              "    <tr>\n",
              "      <th>6</th>\n",
              "      <td>Happy</td>\n",
              "      <td>5</td>\n",
              "      <td>0.322942</td>\n",
              "      <td>5.520000e-07</td>\n",
              "      <td>0.000067</td>\n",
              "      <td>0.038969</td>\n",
              "      <td>0.232620</td>\n",
              "      <td>0.000013</td>\n",
              "      <td>7.800000e-07</td>\n",
              "      <td>0.356248</td>\n",
              "      <td>0.123233</td>\n",
              "      <td>0.000699</td>\n",
              "      <td>0.231732</td>\n",
              "      <td>0.011560</td>\n",
              "      <td>0.015067</td>\n",
              "      <td>8.364370</td>\n",
              "      <td>0.513309</td>\n",
              "      <td>0.006892</td>\n",
              "      <td>0.000012</td>\n",
              "      <td>0.016449</td>\n",
              "      <td>2.183947</td>\n",
              "      <td>2.870000e-08</td>\n",
              "    </tr>\n",
              "  </tbody>\n",
              "</table>\n",
              "</div>"
            ],
            "text/plain": [
              "  SourceStimuliName  SourceStimuliArray  ...     Smirk  Upper Lip Raise\n",
              "2             Happy                   5  ...  2.967763     9.050000e-09\n",
              "3             Happy                   5  ...  3.029588     7.980000e-09\n",
              "4             Happy                   5  ...  2.656371     9.860000e-09\n",
              "5             Happy                   5  ...  2.009076     1.740000e-08\n",
              "6             Happy                   5  ...  2.183947     2.870000e-08\n",
              "\n",
              "[5 rows x 22 columns]"
            ]
          },
          "metadata": {},
          "execution_count": 28
        }
      ]
    },
    {
      "cell_type": "code",
      "source": [
        "np_array = data1.to_numpy()\n",
        "\n",
        "display(np_array)"
      ],
      "metadata": {
        "colab": {
          "base_uri": "https://localhost:8080/",
          "height": 225
        },
        "id": "Q6dsG0px--fN",
        "outputId": "899f4e69-7f73-4ee6-cbd8-c016783f7e4f"
      },
      "execution_count": null,
      "outputs": [
        {
          "output_type": "display_data",
          "data": {
            "text/plain": [
              "array([['Happy', 5, 0.7519899609999999, ..., 0.002703762,\n",
              "        2.9677634239999997, 9.05e-09],\n",
              "       ['Happy', 5, 0.38763651299999996, ..., 0.0046073979999999995,\n",
              "        3.0295877460000002, 7.98e-09],\n",
              "       ['Happy', 5, 0.299396873, ..., 0.01159304, 2.656371117, 9.86e-09],\n",
              "       ...,\n",
              "       ['Disgusted', 1, 27.47338486, ..., 1.035109043, 0.306019545,\n",
              "        46.09599304],\n",
              "       ['Disgusted', 1, 32.6378479, ..., 1.1473993059999998, 0.244729802,\n",
              "        61.01758575],\n",
              "       ['Disgusted', 1, 37.43032074, ..., 1.27349925, 0.192973912,\n",
              "        73.467659]], dtype=object)"
            ]
          },
          "metadata": {}
        }
      ]
    },
    {
      "cell_type": "code",
      "source": [
        "x = data1[['Brow Furrow', 'Brow Raise', 'Cheek Raise','Chin Raise', 'Dimpler', 'Eye Closure', 'Eye Widen', 'Jaw Drop', 'Inner Brow Raise','Lip Suck', 'Lip Corner Depressor', 'Lip Press', 'Lip Pucker', 'Lip Stretch', 'Lid Tighten', 'Lip Suck',\n",
        "           'Mouth Open', 'Nose Wrinkle', 'Smile', 'Smile', 'Upper Lip Raise']].to_numpy()\n",
        "x"
      ],
      "metadata": {
        "colab": {
          "base_uri": "https://localhost:8080/"
        },
        "id": "TVrRJwuh_HC0",
        "outputId": "7c8cef51-da49-44b6-9fb5-9f683c9d8ad9"
      },
      "execution_count": null,
      "outputs": [
        {
          "output_type": "execute_result",
          "data": {
            "text/plain": [
              "array([[7.51989961e-01, 5.52000000e-08, 9.02000000e-06, ...,\n",
              "        2.70376200e-03, 2.70376200e-03, 9.05000000e-09],\n",
              "       [3.87636513e-01, 1.50000000e-07, 1.42000000e-05, ...,\n",
              "        4.60739800e-03, 4.60739800e-03, 7.98000000e-09],\n",
              "       [2.99396873e-01, 1.73000000e-07, 3.57000000e-05, ...,\n",
              "        1.15930400e-02, 1.15930400e-02, 9.86000000e-09],\n",
              "       ...,\n",
              "       [2.74733849e+01, 1.46000000e-06, 1.05706400e-02, ...,\n",
              "        1.03510904e+00, 1.03510904e+00, 4.60959930e+01],\n",
              "       [3.26378479e+01, 1.48000000e-06, 1.27350990e-02, ...,\n",
              "        1.14739931e+00, 1.14739931e+00, 6.10175858e+01],\n",
              "       [3.74303207e+01, 1.43000000e-06, 1.52764120e-02, ...,\n",
              "        1.27349925e+00, 1.27349925e+00, 7.34676590e+01]])"
            ]
          },
          "metadata": {},
          "execution_count": 30
        }
      ]
    },
    {
      "cell_type": "code",
      "source": [
        "y = data1[['SourceStimuliArray']].to_numpy()\n",
        "y = y.ravel()\n",
        "y"
      ],
      "metadata": {
        "colab": {
          "base_uri": "https://localhost:8080/"
        },
        "id": "CKfbe7n1_Ow0",
        "outputId": "3265efb2-462a-46a7-aca6-86d823dacc2f"
      },
      "execution_count": null,
      "outputs": [
        {
          "output_type": "execute_result",
          "data": {
            "text/plain": [
              "array([5, 5, 5, 5, 5, 5, 5, 5, 5, 5, 5, 5, 5, 5, 5, 5, 5, 5, 5, 5, 5, 5,\n",
              "       5, 5, 5, 5, 5, 5, 5, 5, 5, 5, 5, 5, 5, 5, 5, 5, 5, 5, 5, 5, 5, 5,\n",
              "       5, 5, 5, 5, 5, 5, 5, 5, 5, 5, 5, 5, 5, 5, 5, 5, 5, 5, 5, 5, 5, 5,\n",
              "       5, 5, 5, 5, 5, 5, 5, 5, 5, 5, 5, 5, 5, 5, 5, 5, 5, 5, 5, 5, 5, 5,\n",
              "       5, 5, 5, 5, 5, 5, 5, 5, 5, 5, 5, 5, 5, 5, 5, 5, 5, 5, 5, 5, 5, 5,\n",
              "       5, 5, 5, 5, 5, 5, 5, 5, 5, 5, 5, 5, 5, 5, 5, 5, 5, 5, 5, 5, 5, 5,\n",
              "       5, 5, 5, 3, 3, 3, 3, 3, 3, 3, 3, 3, 3, 3, 3, 3, 3, 3, 3, 3, 3, 3,\n",
              "       3, 3, 3, 3, 3, 3, 3, 3, 3, 3, 3, 3, 3, 3, 3, 3, 3, 3, 3, 3, 3, 3,\n",
              "       3, 3, 3, 3, 3, 3, 3, 3, 3, 3, 3, 3, 3, 3, 3, 3, 3, 3, 3, 3, 3, 3,\n",
              "       3, 3, 3, 3, 3, 3, 3, 3, 3, 3, 3, 3, 3, 3, 3, 3, 3, 3, 3, 3, 3, 3,\n",
              "       3, 3, 3, 3, 3, 3, 3, 3, 3, 3, 3, 3, 3, 3, 3, 3, 3, 3, 3, 3, 3, 3,\n",
              "       3, 3, 3, 3, 3, 3, 3, 0, 0, 0, 0, 0, 0, 0, 0, 0, 0, 0, 0, 0, 0, 0,\n",
              "       0, 0, 0, 0, 0, 0, 0, 0, 0, 0, 0, 0, 0, 0, 0, 0, 0, 0, 0, 0, 0, 0,\n",
              "       0, 0, 0, 0, 0, 0, 0, 0, 0, 0, 0, 0, 0, 0, 0, 0, 0, 0, 0, 0, 0, 0,\n",
              "       0, 0, 0, 0, 0, 0, 0, 0, 0, 0, 0, 0, 0, 0, 0, 0, 0, 0, 0, 0, 0, 0,\n",
              "       0, 0, 0, 0, 0, 0, 0, 0, 0, 0, 0, 0, 4, 4, 4, 4, 4, 4, 4, 4, 4, 4,\n",
              "       4, 4, 4, 4, 4, 4, 4, 4, 4, 4, 4, 4, 4, 4, 4, 4, 4, 4, 4, 4, 4, 4,\n",
              "       4, 4, 4, 4, 4, 4, 4, 4, 4, 4, 4, 4, 4, 4, 4, 4, 4, 4, 4, 4, 4, 4,\n",
              "       4, 4, 4, 4, 4, 4, 4, 4, 4, 4, 4, 4, 4, 4, 4, 4, 4, 4, 4, 4, 4, 4,\n",
              "       4, 4, 4, 4, 4, 4, 4, 4, 4, 4, 4, 4, 4, 4, 4, 4, 4, 4, 4, 4, 4, 4,\n",
              "       4, 4, 4, 4, 4, 4, 4, 4, 4, 4, 4, 4, 4, 4, 4, 4, 4, 4, 4, 4, 4, 4,\n",
              "       4, 4, 4, 4, 4, 4, 4, 4, 4, 4, 4, 4, 4, 4, 4, 4, 4, 4, 4, 4, 4, 4,\n",
              "       4, 4, 4, 4, 4, 4, 4, 4, 4, 4, 4, 4, 4, 4, 4, 4, 4, 4, 4, 4, 4, 2,\n",
              "       2, 2, 2, 2, 2, 2, 2, 2, 2, 2, 2, 2, 2, 2, 2, 2, 2, 2, 2, 2, 2, 2,\n",
              "       2, 2, 2, 2, 2, 2, 2, 2, 2, 2, 2, 2, 2, 2, 2, 2, 2, 2, 2, 2, 2, 2,\n",
              "       2, 2, 2, 2, 2, 2, 2, 2, 2, 2, 2, 2, 2, 2, 2, 2, 2, 2, 2, 2, 2, 2,\n",
              "       2, 2, 2, 2, 2, 2, 2, 2, 2, 2, 2, 2, 2, 2, 2, 2, 2, 2, 2, 2, 2, 2,\n",
              "       2, 2, 2, 2, 2, 2, 2, 2, 2, 2, 2, 2, 2, 2, 2, 2, 2, 2, 2, 2, 2, 2,\n",
              "       2, 2, 2, 2, 2, 2, 2, 2, 2, 2, 2, 2, 2, 2, 2, 2, 2, 2, 2, 2, 2, 2,\n",
              "       2, 2, 2, 2, 2, 2, 2, 2, 2, 2, 2, 2, 2, 2, 2, 2, 2, 2, 2, 2, 2, 2,\n",
              "       2, 2, 2, 2, 2, 2, 2, 2, 2, 2, 2, 2, 2, 2, 2, 2, 2, 2, 2, 2, 2, 2,\n",
              "       2, 2, 2, 2, 2, 2, 2, 2, 2, 2, 2, 2, 2, 2, 2, 2, 2, 2, 2, 2, 2, 2,\n",
              "       2, 2, 2, 2, 2, 2, 2, 2, 2, 2, 2, 2, 2, 2, 2, 2, 2, 2, 2, 2, 2, 2,\n",
              "       2, 2, 2, 2, 2, 2, 2, 2, 2, 1, 1, 1, 1, 1, 1, 1, 1, 1, 1, 1, 1, 1,\n",
              "       1, 1, 1, 1, 1, 1, 1, 1, 1, 1, 1, 1, 1, 1, 1, 1, 1, 1, 1, 1, 1, 1,\n",
              "       1, 1, 1, 1, 1, 1, 1, 1, 1, 1, 1, 1, 1, 1, 1, 1, 1, 1, 1, 1, 1, 1,\n",
              "       1, 1, 1, 1, 1, 1, 1, 1, 1, 1, 1, 1, 1, 1, 1, 1, 1, 1, 1, 1, 1, 1,\n",
              "       1, 1, 1, 1, 1, 1, 1, 1, 1, 1, 1, 1, 1, 1, 1, 1, 1, 1, 1, 1, 1, 1,\n",
              "       1, 1, 1, 1, 1, 1, 1, 1, 1, 1, 1, 1, 1, 1, 1, 1, 1, 1, 1, 1, 1, 1,\n",
              "       1, 1, 1, 1, 1, 1, 1, 1, 1, 1, 1, 1, 1])"
            ]
          },
          "metadata": {},
          "execution_count": 31
        }
      ]
    },
    {
      "cell_type": "code",
      "source": [
        "data = x\n",
        "target = y\n",
        "data_tensor=torch.from_numpy(data).float()\n",
        "target_tensor=torch.from_numpy(target).long()"
      ],
      "metadata": {
        "id": "3WAXEAJzA4PE"
      },
      "execution_count": null,
      "outputs": []
    },
    {
      "cell_type": "code",
      "source": [
        "x, y = torch.from_numpy(x).float(), torch.from_numpy(y).long()\n",
        "x.shape, y.shape"
      ],
      "metadata": {
        "colab": {
          "base_uri": "https://localhost:8080/"
        },
        "id": "C1zzCpjSBRp-",
        "outputId": "933e1cc5-8cb6-4657-fc1c-2bc8a5120ec7"
      },
      "execution_count": null,
      "outputs": [
        {
          "output_type": "execute_result",
          "data": {
            "text/plain": [
              "(torch.Size([871, 21]), torch.Size([871]))"
            ]
          },
          "metadata": {},
          "execution_count": 33
        }
      ]
    },
    {
      "cell_type": "code",
      "source": [
        "model = nn.Sequential(\n",
        "    bnn.BayesLinear(prior_mu=0, prior_sigma=0.1, in_features=21, out_features=100),\n",
        "    nn.ReLU(),\n",
        "    bnn.BayesLinear(prior_mu=0, prior_sigma=0.1, in_features=100, out_features=6),\n",
        ")\n",
        "\n"
      ],
      "metadata": {
        "id": "JBTLPam9Bgu0"
      },
      "execution_count": null,
      "outputs": []
    },
    {
      "cell_type": "code",
      "source": [
        "ce_loss = nn.CrossEntropyLoss()\n",
        "kl_loss = bnn.BKLLoss(reduction='mean', last_layer_only=False)\n",
        "kl_weight = 0.01\n",
        "\n",
        "optimizer = optim.Adam(model.parameters(), lr=0.01)"
      ],
      "metadata": {
        "id": "XL8vWT22Bm1E"
      },
      "execution_count": null,
      "outputs": []
    },
    {
      "cell_type": "code",
      "source": [
        "kl_weight = 0.9"
      ],
      "metadata": {
        "id": "WyX_OE25BfMG"
      },
      "execution_count": null,
      "outputs": []
    },
    {
      "cell_type": "code",
      "source": [
        "for step in range(5000):\n",
        "    pre = model(x)\n",
        "    ce = ce_loss(pre, y)\n",
        "    kl = kl_loss(model)\n",
        "    cost = ce + kl_weight*kl\n",
        "    \n",
        "    optimizer.zero_grad()\n",
        "    cost.backward()\n",
        "    optimizer.step()\n",
        "    \n",
        "_, predicted = torch.max(pre.data, 1)\n",
        "total = y.size(0)\n",
        "correct = (predicted == y).sum()\n",
        "print('- Accuracy: %f %%' % (100 * float(correct) / total))\n",
        "print('- CE : %2.2f, KL : %2.2f' % (ce.item(), kl.item()))"
      ],
      "metadata": {
        "colab": {
          "base_uri": "https://localhost:8080/"
        },
        "id": "WjSRcHM9Bx5N",
        "outputId": "16313738-07da-4862-8c31-1d961b6480b6"
      },
      "execution_count": null,
      "outputs": [
        {
          "output_type": "stream",
          "name": "stdout",
          "text": [
            "- Accuracy: 93.915040 %\n",
            "- CE : 0.25, KL : 0.55\n"
          ]
        }
      ]
    },
    {
      "cell_type": "code",
      "source": [
        "def draw_plot(predicted) :\n",
        "    fig = plt.figure(figsize = (18, 7))\n",
        "\n",
        "    ax1 = fig.add_subplot(1, 2, 1)\n",
        "    ax2 = fig.add_subplot(1, 2, 2)\n",
        "\n",
        "    z1_plot = ax1.scatter(x[:, 0], x[:, 1], c = y)\n",
        "    z2_plot = ax2.scatter(x[:, 0], x[:, 1], c = predicted)\n",
        "\n",
        "    plt.colorbar(z1_plot,ax=ax1)\n",
        "    plt.colorbar(z2_plot,ax=ax2)\n",
        "\n",
        "    ax1.set_title(\"REAL\")\n",
        "    ax2.set_title(\"PREDICT\")\n",
        "\n",
        "    plt.show()"
      ],
      "metadata": {
        "id": "eGE1c_WiBxds"
      },
      "execution_count": null,
      "outputs": []
    },
    {
      "cell_type": "code",
      "source": [
        "# Bayesian Neural Network will return different outputs even if inputs are same.\n",
        "# In other words, different plots will be shown every time forward method is called.\n",
        "pre = model(x)\n",
        "_, predicted = torch.max(pre.data, 1)\n",
        "draw_plot(predicted)"
      ],
      "metadata": {
        "colab": {
          "base_uri": "https://localhost:8080/",
          "height": 443
        },
        "id": "Cg_ULzxxIv5r",
        "outputId": "187fac5a-ded9-4488-f443-af3c3c919808"
      },
      "execution_count": null,
      "outputs": [
        {
          "output_type": "display_data",
          "data": {
            "image/png": "[encoded data removed]",
            "text/plain": [
              "<Figure size 1296x504 with 4 Axes>"
            ]
          },
          "metadata": {
            "needs_background": "light"
          }
        }
      ]
    },
    {
      "cell_type": "markdown",
      "source": [
        "### **(c) Artificial Neural Network (ANN) with all the features and emotions:**"
      ],
      "metadata": {
        "id": "2juItHAw1d2q"
      }
    },
    {
      "cell_type": "code",
      "source": [
        "# data2['SourceStimuliArray'].sum() / data1.shape[0] # class rate"
      ],
      "metadata": {
        "colab": {
          "base_uri": "https://localhost:8080/"
        },
        "id": "gc1oIgVoBAMz",
        "outputId": "bc3bcdb8-9884-4b30-8619-4edf27585c25"
      },
      "execution_count": null,
      "outputs": [
        {
          "output_type": "execute_result",
          "data": {
            "text/plain": [
              "2.6004592422502872"
            ]
          },
          "metadata": {},
          "execution_count": 193
        }
      ]
    },
    {
      "cell_type": "code",
      "source": [
        "# Importing Packages\n",
        "import numpy as np\n",
        "import keras\n",
        "from keras.models import Sequential\n",
        "from keras.layers import Dense\n",
        "from sklearn import datasets"
      ],
      "metadata": {
        "id": "CBPTu03cfO3E"
      },
      "execution_count": null,
      "outputs": []
    },
    {
      "cell_type": "code",
      "source": [
        "# # Loading Dataset\n",
        "# data = datasets.load_iris()\n",
        "# print(data)"
      ],
      "metadata": {
        "id": "YgUtekLGfSan"
      },
      "execution_count": null,
      "outputs": []
    },
    {
      "cell_type": "code",
      "source": [
        "data2 = data1[['SourceStimuliArray', 'Brow Furrow', 'Brow Raise', 'Cheek Raise','Chin Raise', 'Dimpler', 'Eye Closure', 'Eye Widen', 'Jaw Drop', 'Inner Brow Raise','Lip Suck', 'Lip Corner Depressor', 'Lip Press', 'Lip Pucker', 'Lip Stretch', 'Lid Tighten', 'Lip Suck',\n",
        "           'Mouth Open', 'Nose Wrinkle', 'Smile', 'Smile', 'Upper Lip Raise' ]]"
      ],
      "metadata": {
        "id": "DCEEbemYfZRh"
      },
      "execution_count": null,
      "outputs": []
    },
    {
      "cell_type": "code",
      "source": [
        "x = data1[['Brow Furrow', 'Brow Raise', 'Cheek Raise','Chin Raise', 'Dimpler', 'Eye Closure', 'Eye Widen', 'Jaw Drop', 'Inner Brow Raise','Lip Suck', 'Lip Corner Depressor', 'Lip Press', 'Lip Pucker', 'Lip Stretch', 'Lid Tighten', 'Lip Suck',\n",
        "           'Mouth Open', 'Nose Wrinkle', 'Smile', 'Smile', 'Upper Lip Raise']].to_numpy()\n",
        "x"
      ],
      "metadata": {
        "colab": {
          "base_uri": "https://localhost:8080/"
        },
        "id": "bErWOiA3fipa",
        "outputId": "17c2fcc5-6d18-40d8-ddac-4e458a3574d6"
      },
      "execution_count": null,
      "outputs": [
        {
          "output_type": "execute_result",
          "data": {
            "text/plain": [
              "array([[7.51989961e-01, 5.52000000e-08, 9.02000000e-06, ...,\n",
              "        2.70376200e-03, 2.70376200e-03, 9.05000000e-09],\n",
              "       [3.87636513e-01, 1.50000000e-07, 1.42000000e-05, ...,\n",
              "        4.60739800e-03, 4.60739800e-03, 7.98000000e-09],\n",
              "       [2.99396873e-01, 1.73000000e-07, 3.57000000e-05, ...,\n",
              "        1.15930400e-02, 1.15930400e-02, 9.86000000e-09],\n",
              "       ...,\n",
              "       [2.74733849e+01, 1.46000000e-06, 1.05706400e-02, ...,\n",
              "        1.03510904e+00, 1.03510904e+00, 4.60959930e+01],\n",
              "       [3.26378479e+01, 1.48000000e-06, 1.27350990e-02, ...,\n",
              "        1.14739931e+00, 1.14739931e+00, 6.10175858e+01],\n",
              "       [3.74303207e+01, 1.43000000e-06, 1.52764120e-02, ...,\n",
              "        1.27349925e+00, 1.27349925e+00, 7.34676590e+01]])"
            ]
          },
          "metadata": {},
          "execution_count": 116
        }
      ]
    },
    {
      "cell_type": "code",
      "source": [
        "y = data1[['SourceStimuliArray']].to_numpy()\n",
        "y = y.ravel()\n",
        "y"
      ],
      "metadata": {
        "colab": {
          "base_uri": "https://localhost:8080/"
        },
        "id": "36M7r2yEflqU",
        "outputId": "47a39228-f7e7-490a-d79f-389e841ef611"
      },
      "execution_count": null,
      "outputs": [
        {
          "output_type": "execute_result",
          "data": {
            "text/plain": [
              "array([5, 5, 5, 5, 5, 5, 5, 5, 5, 5, 5, 5, 5, 5, 5, 5, 5, 5, 5, 5, 5, 5,\n",
              "       5, 5, 5, 5, 5, 5, 5, 5, 5, 5, 5, 5, 5, 5, 5, 5, 5, 5, 5, 5, 5, 5,\n",
              "       5, 5, 5, 5, 5, 5, 5, 5, 5, 5, 5, 5, 5, 5, 5, 5, 5, 5, 5, 5, 5, 5,\n",
              "       5, 5, 5, 5, 5, 5, 5, 5, 5, 5, 5, 5, 5, 5, 5, 5, 5, 5, 5, 5, 5, 5,\n",
              "       5, 5, 5, 5, 5, 5, 5, 5, 5, 5, 5, 5, 5, 5, 5, 5, 5, 5, 5, 5, 5, 5,\n",
              "       5, 5, 5, 5, 5, 5, 5, 5, 5, 5, 5, 5, 5, 5, 5, 5, 5, 5, 5, 5, 5, 5,\n",
              "       5, 5, 5, 3, 3, 3, 3, 3, 3, 3, 3, 3, 3, 3, 3, 3, 3, 3, 3, 3, 3, 3,\n",
              "       3, 3, 3, 3, 3, 3, 3, 3, 3, 3, 3, 3, 3, 3, 3, 3, 3, 3, 3, 3, 3, 3,\n",
              "       3, 3, 3, 3, 3, 3, 3, 3, 3, 3, 3, 3, 3, 3, 3, 3, 3, 3, 3, 3, 3, 3,\n",
              "       3, 3, 3, 3, 3, 3, 3, 3, 3, 3, 3, 3, 3, 3, 3, 3, 3, 3, 3, 3, 3, 3,\n",
              "       3, 3, 3, 3, 3, 3, 3, 3, 3, 3, 3, 3, 3, 3, 3, 3, 3, 3, 3, 3, 3, 3,\n",
              "       3, 3, 3, 3, 3, 3, 3, 0, 0, 0, 0, 0, 0, 0, 0, 0, 0, 0, 0, 0, 0, 0,\n",
              "       0, 0, 0, 0, 0, 0, 0, 0, 0, 0, 0, 0, 0, 0, 0, 0, 0, 0, 0, 0, 0, 0,\n",
              "       0, 0, 0, 0, 0, 0, 0, 0, 0, 0, 0, 0, 0, 0, 0, 0, 0, 0, 0, 0, 0, 0,\n",
              "       0, 0, 0, 0, 0, 0, 0, 0, 0, 0, 0, 0, 0, 0, 0, 0, 0, 0, 0, 0, 0, 0,\n",
              "       0, 0, 0, 0, 0, 0, 0, 0, 0, 0, 0, 0, 4, 4, 4, 4, 4, 4, 4, 4, 4, 4,\n",
              "       4, 4, 4, 4, 4, 4, 4, 4, 4, 4, 4, 4, 4, 4, 4, 4, 4, 4, 4, 4, 4, 4,\n",
              "       4, 4, 4, 4, 4, 4, 4, 4, 4, 4, 4, 4, 4, 4, 4, 4, 4, 4, 4, 4, 4, 4,\n",
              "       4, 4, 4, 4, 4, 4, 4, 4, 4, 4, 4, 4, 4, 4, 4, 4, 4, 4, 4, 4, 4, 4,\n",
              "       4, 4, 4, 4, 4, 4, 4, 4, 4, 4, 4, 4, 4, 4, 4, 4, 4, 4, 4, 4, 4, 4,\n",
              "       4, 4, 4, 4, 4, 4, 4, 4, 4, 4, 4, 4, 4, 4, 4, 4, 4, 4, 4, 4, 4, 4,\n",
              "       4, 4, 4, 4, 4, 4, 4, 4, 4, 4, 4, 4, 4, 4, 4, 4, 4, 4, 4, 4, 4, 4,\n",
              "       4, 4, 4, 4, 4, 4, 4, 4, 4, 4, 4, 4, 4, 4, 4, 4, 4, 4, 4, 4, 4, 2,\n",
              "       2, 2, 2, 2, 2, 2, 2, 2, 2, 2, 2, 2, 2, 2, 2, 2, 2, 2, 2, 2, 2, 2,\n",
              "       2, 2, 2, 2, 2, 2, 2, 2, 2, 2, 2, 2, 2, 2, 2, 2, 2, 2, 2, 2, 2, 2,\n",
              "       2, 2, 2, 2, 2, 2, 2, 2, 2, 2, 2, 2, 2, 2, 2, 2, 2, 2, 2, 2, 2, 2,\n",
              "       2, 2, 2, 2, 2, 2, 2, 2, 2, 2, 2, 2, 2, 2, 2, 2, 2, 2, 2, 2, 2, 2,\n",
              "       2, 2, 2, 2, 2, 2, 2, 2, 2, 2, 2, 2, 2, 2, 2, 2, 2, 2, 2, 2, 2, 2,\n",
              "       2, 2, 2, 2, 2, 2, 2, 2, 2, 2, 2, 2, 2, 2, 2, 2, 2, 2, 2, 2, 2, 2,\n",
              "       2, 2, 2, 2, 2, 2, 2, 2, 2, 2, 2, 2, 2, 2, 2, 2, 2, 2, 2, 2, 2, 2,\n",
              "       2, 2, 2, 2, 2, 2, 2, 2, 2, 2, 2, 2, 2, 2, 2, 2, 2, 2, 2, 2, 2, 2,\n",
              "       2, 2, 2, 2, 2, 2, 2, 2, 2, 2, 2, 2, 2, 2, 2, 2, 2, 2, 2, 2, 2, 2,\n",
              "       2, 2, 2, 2, 2, 2, 2, 2, 2, 2, 2, 2, 2, 2, 2, 2, 2, 2, 2, 2, 2, 2,\n",
              "       2, 2, 2, 2, 2, 2, 2, 2, 2, 1, 1, 1, 1, 1, 1, 1, 1, 1, 1, 1, 1, 1,\n",
              "       1, 1, 1, 1, 1, 1, 1, 1, 1, 1, 1, 1, 1, 1, 1, 1, 1, 1, 1, 1, 1, 1,\n",
              "       1, 1, 1, 1, 1, 1, 1, 1, 1, 1, 1, 1, 1, 1, 1, 1, 1, 1, 1, 1, 1, 1,\n",
              "       1, 1, 1, 1, 1, 1, 1, 1, 1, 1, 1, 1, 1, 1, 1, 1, 1, 1, 1, 1, 1, 1,\n",
              "       1, 1, 1, 1, 1, 1, 1, 1, 1, 1, 1, 1, 1, 1, 1, 1, 1, 1, 1, 1, 1, 1,\n",
              "       1, 1, 1, 1, 1, 1, 1, 1, 1, 1, 1, 1, 1, 1, 1, 1, 1, 1, 1, 1, 1, 1,\n",
              "       1, 1, 1, 1, 1, 1, 1, 1, 1, 1, 1, 1, 1])"
            ]
          },
          "metadata": {},
          "execution_count": 117
        }
      ]
    },
    {
      "cell_type": "code",
      "source": [
        "# Split Dataset\n",
        "from sklearn.model_selection import train_test_split\n",
        "x_train, x_test,  y_train, y_test = train_test_split(x, y, test_size=0.3)"
      ],
      "metadata": {
        "id": "wuQ68Cr3gYAC"
      },
      "execution_count": null,
      "outputs": []
    },
    {
      "cell_type": "code",
      "source": [
        "# Data Shape\n",
        "print(x_train.shape)\n",
        "print(x_test.shape)"
      ],
      "metadata": {
        "colab": {
          "base_uri": "https://localhost:8080/"
        },
        "id": "lj7Ns9DwgcW6",
        "outputId": "fe623c99-d7cf-45a9-b5b6-6bddbaeaff6e"
      },
      "execution_count": null,
      "outputs": [
        {
          "output_type": "stream",
          "name": "stdout",
          "text": [
            "(609, 21)\n",
            "(262, 21)\n"
          ]
        }
      ]
    },
    {
      "cell_type": "code",
      "source": [
        "# Building the Model\n",
        "model= Sequential()\n",
        "model.add(Dense(100,input_shape=(21,), activation=\"tanh\"))\n",
        "model.add(Dense(21, activation='softmax'))"
      ],
      "metadata": {
        "id": "hB6exeN4gfel"
      },
      "execution_count": null,
      "outputs": []
    },
    {
      "cell_type": "code",
      "source": [
        "# Compile the Model\n",
        "model.compile(optimizer=\"sgd\", loss=\"sparse_categorical_crossentropy\", metrics=[\"accuracy\"])"
      ],
      "metadata": {
        "id": "rCMsQByighDL"
      },
      "execution_count": null,
      "outputs": []
    },
    {
      "cell_type": "code",
      "source": [
        "# Fit the Model\n",
        "model.fit(x_train,y_train, epochs=100)"
      ],
      "metadata": {
        "colab": {
          "base_uri": "https://localhost:8080/"
        },
        "id": "dXwBQd6fgj66",
        "outputId": "f7f9e67a-1a10-4228-b4d9-65760e9d7b71"
      },
      "execution_count": null,
      "outputs": [
        {
          "output_type": "stream",
          "name": "stdout",
          "text": [
            "Epoch 1/100\n",
            "20/20 [==============================] - 0s 2ms/step - loss: 2.7251 - accuracy: 0.2365\n",
            "Epoch 2/100\n",
            "20/20 [==============================] - 0s 2ms/step - loss: 1.8083 - accuracy: 0.5353\n",
            "Epoch 3/100\n",
            "20/20 [==============================] - 0s 1ms/step - loss: 1.4362 - accuracy: 0.6141\n",
            "Epoch 4/100\n",
            "20/20 [==============================] - 0s 2ms/step - loss: 1.2288 - accuracy: 0.6667\n",
            "Epoch 5/100\n",
            "20/20 [==============================] - 0s 2ms/step - loss: 1.0976 - accuracy: 0.6880\n",
            "Epoch 6/100\n",
            "20/20 [==============================] - 0s 1ms/step - loss: 0.9977 - accuracy: 0.7307\n",
            "Epoch 7/100\n",
            "20/20 [==============================] - 0s 2ms/step - loss: 0.9731 - accuracy: 0.7044\n",
            "Epoch 8/100\n",
            "20/20 [==============================] - 0s 2ms/step - loss: 0.8750 - accuracy: 0.7915\n",
            "Epoch 9/100\n",
            "20/20 [==============================] - 0s 2ms/step - loss: 0.8535 - accuracy: 0.8030\n",
            "Epoch 10/100\n",
            "20/20 [==============================] - 0s 2ms/step - loss: 0.7866 - accuracy: 0.8276\n",
            "Epoch 11/100\n",
            "20/20 [==============================] - 0s 2ms/step - loss: 0.7395 - accuracy: 0.8276\n",
            "Epoch 12/100\n",
            "20/20 [==============================] - 0s 2ms/step - loss: 0.6893 - accuracy: 0.8342\n",
            "Epoch 13/100\n",
            "20/20 [==============================] - 0s 1ms/step - loss: 0.6598 - accuracy: 0.8391\n",
            "Epoch 14/100\n",
            "20/20 [==============================] - 0s 2ms/step - loss: 0.6347 - accuracy: 0.8456\n",
            "Epoch 15/100\n",
            "20/20 [==============================] - 0s 2ms/step - loss: 0.6100 - accuracy: 0.8506\n",
            "Epoch 16/100\n",
            "20/20 [==============================] - 0s 2ms/step - loss: 0.6033 - accuracy: 0.8440\n",
            "Epoch 17/100\n",
            "20/20 [==============================] - 0s 2ms/step - loss: 0.5747 - accuracy: 0.8654\n",
            "Epoch 18/100\n",
            "20/20 [==============================] - 0s 2ms/step - loss: 0.5517 - accuracy: 0.8736\n",
            "Epoch 19/100\n",
            "20/20 [==============================] - 0s 2ms/step - loss: 0.5361 - accuracy: 0.8785\n",
            "Epoch 20/100\n",
            "20/20 [==============================] - 0s 1ms/step - loss: 0.5273 - accuracy: 0.8867\n",
            "Epoch 21/100\n",
            "20/20 [==============================] - 0s 1ms/step - loss: 0.5095 - accuracy: 0.8883\n",
            "Epoch 22/100\n",
            "20/20 [==============================] - 0s 2ms/step - loss: 0.5028 - accuracy: 0.8966\n",
            "Epoch 23/100\n",
            "20/20 [==============================] - 0s 1ms/step - loss: 0.4814 - accuracy: 0.9048\n",
            "Epoch 24/100\n",
            "20/20 [==============================] - 0s 2ms/step - loss: 0.4715 - accuracy: 0.9080\n",
            "Epoch 25/100\n",
            "20/20 [==============================] - 0s 1ms/step - loss: 0.4600 - accuracy: 0.8900\n",
            "Epoch 26/100\n",
            "20/20 [==============================] - 0s 2ms/step - loss: 0.4624 - accuracy: 0.8883\n",
            "Epoch 27/100\n",
            "20/20 [==============================] - 0s 2ms/step - loss: 0.4409 - accuracy: 0.9031\n",
            "Epoch 28/100\n",
            "20/20 [==============================] - 0s 2ms/step - loss: 0.4367 - accuracy: 0.9064\n",
            "Epoch 29/100\n",
            "20/20 [==============================] - 0s 2ms/step - loss: 0.4333 - accuracy: 0.8998\n",
            "Epoch 30/100\n",
            "20/20 [==============================] - 0s 2ms/step - loss: 0.4262 - accuracy: 0.9195\n",
            "Epoch 31/100\n",
            "20/20 [==============================] - 0s 2ms/step - loss: 0.4080 - accuracy: 0.9195\n",
            "Epoch 32/100\n",
            "20/20 [==============================] - 0s 2ms/step - loss: 0.4069 - accuracy: 0.9015\n",
            "Epoch 33/100\n",
            "20/20 [==============================] - 0s 2ms/step - loss: 0.3967 - accuracy: 0.9163\n",
            "Epoch 34/100\n",
            "20/20 [==============================] - 0s 2ms/step - loss: 0.3873 - accuracy: 0.9195\n",
            "Epoch 35/100\n",
            "20/20 [==============================] - 0s 2ms/step - loss: 0.3933 - accuracy: 0.9261\n",
            "Epoch 36/100\n",
            "20/20 [==============================] - 0s 2ms/step - loss: 0.3801 - accuracy: 0.9212\n",
            "Epoch 37/100\n",
            "20/20 [==============================] - 0s 2ms/step - loss: 0.3752 - accuracy: 0.9327\n",
            "Epoch 38/100\n",
            "20/20 [==============================] - 0s 2ms/step - loss: 0.3652 - accuracy: 0.9442\n",
            "Epoch 39/100\n",
            "20/20 [==============================] - 0s 2ms/step - loss: 0.3579 - accuracy: 0.9343\n",
            "Epoch 40/100\n",
            "20/20 [==============================] - 0s 2ms/step - loss: 0.3868 - accuracy: 0.9310\n",
            "Epoch 41/100\n",
            "20/20 [==============================] - 0s 1ms/step - loss: 0.3784 - accuracy: 0.9294\n",
            "Epoch 42/100\n",
            "20/20 [==============================] - 0s 2ms/step - loss: 0.3614 - accuracy: 0.9392\n",
            "Epoch 43/100\n",
            "20/20 [==============================] - 0s 2ms/step - loss: 0.3545 - accuracy: 0.9360\n",
            "Epoch 44/100\n",
            "20/20 [==============================] - 0s 2ms/step - loss: 0.3483 - accuracy: 0.9376\n",
            "Epoch 45/100\n",
            "20/20 [==============================] - 0s 2ms/step - loss: 0.3408 - accuracy: 0.9343\n",
            "Epoch 46/100\n",
            "20/20 [==============================] - 0s 2ms/step - loss: 0.3327 - accuracy: 0.9392\n",
            "Epoch 47/100\n",
            "20/20 [==============================] - 0s 2ms/step - loss: 0.3330 - accuracy: 0.9261\n",
            "Epoch 48/100\n",
            "20/20 [==============================] - 0s 2ms/step - loss: 0.3208 - accuracy: 0.9458\n",
            "Epoch 49/100\n",
            "20/20 [==============================] - 0s 2ms/step - loss: 0.3263 - accuracy: 0.9360\n",
            "Epoch 50/100\n",
            "20/20 [==============================] - 0s 2ms/step - loss: 0.3199 - accuracy: 0.9343\n",
            "Epoch 51/100\n",
            "20/20 [==============================] - 0s 2ms/step - loss: 0.3170 - accuracy: 0.9327\n",
            "Epoch 52/100\n",
            "20/20 [==============================] - 0s 1ms/step - loss: 0.3053 - accuracy: 0.9475\n",
            "Epoch 53/100\n",
            "20/20 [==============================] - 0s 2ms/step - loss: 0.3087 - accuracy: 0.9507\n",
            "Epoch 54/100\n",
            "20/20 [==============================] - 0s 2ms/step - loss: 0.2987 - accuracy: 0.9475\n",
            "Epoch 55/100\n",
            "20/20 [==============================] - 0s 2ms/step - loss: 0.2946 - accuracy: 0.9491\n",
            "Epoch 56/100\n",
            "20/20 [==============================] - 0s 2ms/step - loss: 0.2901 - accuracy: 0.9524\n",
            "Epoch 57/100\n",
            "20/20 [==============================] - 0s 2ms/step - loss: 0.3680 - accuracy: 0.9113\n",
            "Epoch 58/100\n",
            "20/20 [==============================] - 0s 2ms/step - loss: 0.3362 - accuracy: 0.9278\n",
            "Epoch 59/100\n",
            "20/20 [==============================] - 0s 2ms/step - loss: 0.3234 - accuracy: 0.9360\n",
            "Epoch 60/100\n",
            "20/20 [==============================] - 0s 2ms/step - loss: 0.3061 - accuracy: 0.9360\n",
            "Epoch 61/100\n",
            "20/20 [==============================] - 0s 2ms/step - loss: 0.3108 - accuracy: 0.9310\n",
            "Epoch 62/100\n",
            "20/20 [==============================] - 0s 2ms/step - loss: 0.3416 - accuracy: 0.9163\n",
            "Epoch 63/100\n",
            "20/20 [==============================] - 0s 1ms/step - loss: 0.3075 - accuracy: 0.9146\n",
            "Epoch 64/100\n",
            "20/20 [==============================] - 0s 1ms/step - loss: 0.2958 - accuracy: 0.9163\n",
            "Epoch 65/100\n",
            "20/20 [==============================] - 0s 2ms/step - loss: 0.2846 - accuracy: 0.9327\n",
            "Epoch 66/100\n",
            "20/20 [==============================] - 0s 2ms/step - loss: 0.2831 - accuracy: 0.9392\n",
            "Epoch 67/100\n",
            "20/20 [==============================] - 0s 2ms/step - loss: 0.2767 - accuracy: 0.9376\n",
            "Epoch 68/100\n",
            "20/20 [==============================] - 0s 2ms/step - loss: 0.2721 - accuracy: 0.9442\n",
            "Epoch 69/100\n",
            "20/20 [==============================] - 0s 2ms/step - loss: 0.2668 - accuracy: 0.9409\n",
            "Epoch 70/100\n",
            "20/20 [==============================] - 0s 2ms/step - loss: 0.2683 - accuracy: 0.9425\n",
            "Epoch 71/100\n",
            "20/20 [==============================] - 0s 2ms/step - loss: 0.2690 - accuracy: 0.9409\n",
            "Epoch 72/100\n",
            "20/20 [==============================] - 0s 2ms/step - loss: 0.2596 - accuracy: 0.9475\n",
            "Epoch 73/100\n",
            "20/20 [==============================] - 0s 2ms/step - loss: 0.2556 - accuracy: 0.9475\n",
            "Epoch 74/100\n",
            "20/20 [==============================] - 0s 2ms/step - loss: 0.2534 - accuracy: 0.9425\n",
            "Epoch 75/100\n",
            "20/20 [==============================] - 0s 1ms/step - loss: 0.2491 - accuracy: 0.9524\n",
            "Epoch 76/100\n",
            "20/20 [==============================] - 0s 2ms/step - loss: 0.2517 - accuracy: 0.9491\n",
            "Epoch 77/100\n",
            "20/20 [==============================] - 0s 2ms/step - loss: 0.2585 - accuracy: 0.9442\n",
            "Epoch 78/100\n",
            "20/20 [==============================] - 0s 2ms/step - loss: 0.2584 - accuracy: 0.9360\n",
            "Epoch 79/100\n",
            "20/20 [==============================] - 0s 2ms/step - loss: 0.2404 - accuracy: 0.9475\n",
            "Epoch 80/100\n",
            "20/20 [==============================] - 0s 2ms/step - loss: 0.2372 - accuracy: 0.9442\n",
            "Epoch 81/100\n",
            "20/20 [==============================] - 0s 2ms/step - loss: 0.2352 - accuracy: 0.9507\n",
            "Epoch 82/100\n",
            "20/20 [==============================] - 0s 1ms/step - loss: 0.2546 - accuracy: 0.9327\n",
            "Epoch 83/100\n",
            "20/20 [==============================] - 0s 2ms/step - loss: 0.2484 - accuracy: 0.9327\n",
            "Epoch 84/100\n",
            "20/20 [==============================] - 0s 2ms/step - loss: 0.2386 - accuracy: 0.9425\n",
            "Epoch 85/100\n",
            "20/20 [==============================] - 0s 2ms/step - loss: 0.2342 - accuracy: 0.9491\n",
            "Epoch 86/100\n",
            "20/20 [==============================] - 0s 2ms/step - loss: 0.2321 - accuracy: 0.9442\n",
            "Epoch 87/100\n",
            "20/20 [==============================] - 0s 2ms/step - loss: 0.2251 - accuracy: 0.9475\n",
            "Epoch 88/100\n",
            "20/20 [==============================] - 0s 2ms/step - loss: 0.2326 - accuracy: 0.9409\n",
            "Epoch 89/100\n",
            "20/20 [==============================] - 0s 2ms/step - loss: 0.2265 - accuracy: 0.9475\n",
            "Epoch 90/100\n",
            "20/20 [==============================] - 0s 1ms/step - loss: 0.2180 - accuracy: 0.9507\n",
            "Epoch 91/100\n",
            "20/20 [==============================] - 0s 2ms/step - loss: 0.2269 - accuracy: 0.9557\n",
            "Epoch 92/100\n",
            "20/20 [==============================] - 0s 2ms/step - loss: 0.2242 - accuracy: 0.9425\n",
            "Epoch 93/100\n",
            "20/20 [==============================] - 0s 2ms/step - loss: 0.2158 - accuracy: 0.9442\n",
            "Epoch 94/100\n",
            "20/20 [==============================] - 0s 2ms/step - loss: 0.2091 - accuracy: 0.9524\n",
            "Epoch 95/100\n",
            "20/20 [==============================] - 0s 1ms/step - loss: 0.2096 - accuracy: 0.9672\n",
            "Epoch 96/100\n",
            "20/20 [==============================] - 0s 2ms/step - loss: 0.2197 - accuracy: 0.9458\n",
            "Epoch 97/100\n",
            "20/20 [==============================] - 0s 2ms/step - loss: 0.2125 - accuracy: 0.9475\n",
            "Epoch 98/100\n",
            "20/20 [==============================] - 0s 2ms/step - loss: 0.2055 - accuracy: 0.9573\n",
            "Epoch 99/100\n",
            "20/20 [==============================] - 0s 2ms/step - loss: 0.2051 - accuracy: 0.9589\n",
            "Epoch 100/100\n",
            "20/20 [==============================] - 0s 2ms/step - loss: 0.2037 - accuracy: 0.9622\n"
          ]
        },
        {
          "output_type": "execute_result",
          "data": {
            "text/plain": [
              "<keras.callbacks.History at 0x7fb86780c090>"
            ]
          },
          "metadata": {},
          "execution_count": 123
        }
      ]
    },
    {
      "cell_type": "code",
      "source": [
        "# Evaluate the Model\n",
        "model.evaluate(x_test, y_test)"
      ],
      "metadata": {
        "colab": {
          "base_uri": "https://localhost:8080/"
        },
        "id": "_NwUhcE_g6KT",
        "outputId": "feb5f4e1-efe4-4ab4-b92f-0f29da81eede"
      },
      "execution_count": null,
      "outputs": [
        {
          "output_type": "stream",
          "name": "stdout",
          "text": [
            "9/9 [==============================] - 0s 2ms/step - loss: 0.3505 - accuracy: 0.8855\n"
          ]
        },
        {
          "output_type": "execute_result",
          "data": {
            "text/plain": [
              "[0.35049253702163696, 0.885496199131012]"
            ]
          },
          "metadata": {},
          "execution_count": 124
        }
      ]
    },
    {
      "cell_type": "code",
      "source": [
        "# Predict for the first 10 Observations\n",
        "pred=model.predict(x_test[:10])\n",
        "print(pred)"
      ],
      "metadata": {
        "id": "hVJX2736g-Nx"
      },
      "execution_count": null,
      "outputs": []
    },
    {
      "cell_type": "code",
      "source": [
        "p=np.argmax(pred, axis=1)\n",
        "print(p)\n",
        "print(y_test[:10])"
      ],
      "metadata": {
        "colab": {
          "base_uri": "https://localhost:8080/"
        },
        "id": "nqTCPX9OhAHI",
        "outputId": "1b78f603-28fe-4dae-bb68-5b1ebbf93888"
      },
      "execution_count": null,
      "outputs": [
        {
          "output_type": "stream",
          "name": "stdout",
          "text": [
            "[1 5 4 2 3 3 3 1 2 4]\n",
            "[1 2 4 2 3 2 3 1 2 4]\n"
          ]
        }
      ]
    }
  ]
}